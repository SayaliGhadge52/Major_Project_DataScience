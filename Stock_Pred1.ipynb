{
  "nbformat": 4,
  "nbformat_minor": 0,
  "metadata": {
    "colab": {
      "name": "Stock_Pred1.ipynb",
      "provenance": [],
      "collapsed_sections": []
    },
    "kernelspec": {
      "display_name": "Python 3",
      "name": "python3"
    },
    "language_info": {
      "name": "python"
    }
  },
  "cells": [
    {
      "cell_type": "markdown",
      "metadata": {
        "id": "USC_RcSp-R-r"
      },
      "source": [
        "Importing the Required Libraries"
      ]
    },
    {
      "cell_type": "code",
      "metadata": {
        "id": "BWuTWE_79n8u"
      },
      "source": [
        "import numpy\n",
        "import pandas as pd\n",
        "import matplotlib.pyplot as plt\n",
        "import numpy as np\n",
        "from sklearn.preprocessing import MinMaxScaler\n",
        "from sklearn.model_selection import train_test_split\n",
        "from torch.utils.data import random_split\n",
        "import math\n",
        "from keras import Sequential\n",
        "from keras.layers import LSTM, Dense"
      ],
      "execution_count": null,
      "outputs": []
    },
    {
      "cell_type": "code",
      "metadata": {
        "id": "Ptg47qxk-29a"
      },
      "source": [
        "from google.colab import files\n",
        "import io\n",
        "import missingno\n",
        "import seaborn as sns"
      ],
      "execution_count": null,
      "outputs": []
    },
    {
      "cell_type": "markdown",
      "metadata": {
        "id": "M5lbVsh8-gER"
      },
      "source": [
        "Dataset"
      ]
    },
    {
      "cell_type": "code",
      "metadata": {
        "colab": {
          "resources": {
            "http://localhost:8080/nbextensions/google.colab/files.js": {
              "data": "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",
              "ok": true,
              "headers": [
                [
                  "content-type",
                  "application/javascript"
                ]
              ],
              "status": 200,
              "status_text": ""
            }
          },
          "base_uri": "https://localhost:8080/",
          "height": 72
        },
        "id": "71ZnTdYYD0r_",
        "outputId": "ec69bcf5-648d-458b-9f27-665672ac4249"
      },
      "source": [
        "uploaded = files.upload()"
      ],
      "execution_count": null,
      "outputs": [
        {
          "output_type": "display_data",
          "data": {
            "text/html": [
              "\n",
              "     <input type=\"file\" id=\"files-e44b4dea-6641-4c00-8c96-463129f5f104\" name=\"files[]\" multiple disabled\n",
              "        style=\"border:none\" />\n",
              "     <output id=\"result-e44b4dea-6641-4c00-8c96-463129f5f104\">\n",
              "      Upload widget is only available when the cell has been executed in the\n",
              "      current browser session. Please rerun this cell to enable.\n",
              "      </output>\n",
              "      <script src=\"/nbextensions/google.colab/files.js\"></script> "
            ],
            "text/plain": [
              "<IPython.core.display.HTML object>"
            ]
          },
          "metadata": {
            "tags": []
          }
        },
        {
          "output_type": "stream",
          "text": [
            "Saving train_set.csv to train_set.csv\n"
          ],
          "name": "stdout"
        }
      ]
    },
    {
      "cell_type": "code",
      "metadata": {
        "id": "oyK7SNIeXoyz"
      },
      "source": [
        "dataframe = pd.read_csv(io.BytesIO(uploaded['train_set.csv']))"
      ],
      "execution_count": null,
      "outputs": []
    },
    {
      "cell_type": "code",
      "metadata": {
        "colab": {
          "base_uri": "https://localhost:8080/",
          "height": 35
        },
        "id": "LKNzdO9MUnc5",
        "outputId": "69e86e34-da1d-4056-b739-d232907e1a39"
      },
      "source": [
        "# dataset = dataset.reset_index()[\"close\"]\n",
        "# plt.plot(dataset)\n",
        "\"\"\"\n",
        "plt.figure(figsize=(16, 8))\n",
        "plt.title(\"History\")\n",
        "plt.plot(dataframe[\"close\"])\n",
        "plt.xlabel(\"Date\")\n",
        "plt.ylabel(\"Close Price \")\n",
        "plt.show()\n",
        "\"\"\""
      ],
      "execution_count": null,
      "outputs": [
        {
          "output_type": "execute_result",
          "data": {
            "application/vnd.google.colaboratory.intrinsic+json": {
              "type": "string"
            },
            "text/plain": [
              "'\\nplt.figure(figsize=(16, 8))\\nplt.title(\"History\")\\nplt.plot(dataframe[\"close\"])\\nplt.xlabel(\"Date\")\\nplt.ylabel(\"Close Price \")\\nplt.show()\\n'"
            ]
          },
          "metadata": {
            "tags": []
          },
          "execution_count": 7
        }
      ]
    },
    {
      "cell_type": "code",
      "metadata": {
        "id": "xnmAwnrPUzLA"
      },
      "source": [
        "data = dataframe.filter([\"close\"])\n",
        "dataset = data.values"
      ],
      "execution_count": null,
      "outputs": []
    },
    {
      "cell_type": "code",
      "metadata": {
        "colab": {
          "base_uri": "https://localhost:8080/"
        },
        "id": "LdEQCpJUU3pf",
        "outputId": "7e91ec0c-b1a0-4bba-ed17-2026bc0f149c"
      },
      "source": [
        "training_data_len = math.ceil(len(dataset) * .8)\n",
        "training_data_len"
      ],
      "execution_count": null,
      "outputs": [
        {
          "output_type": "execute_result",
          "data": {
            "text/plain": [
              "11896"
            ]
          },
          "metadata": {
            "tags": []
          },
          "execution_count": 9
        }
      ]
    },
    {
      "cell_type": "code",
      "metadata": {
        "colab": {
          "base_uri": "https://localhost:8080/"
        },
        "id": "mZENqhEDU9c1",
        "outputId": "0ca54b66-5478-445a-89eb-0b8edcc9d33b"
      },
      "source": [
        "Normalization = MinMaxScaler(feature_range=(0, 1))\n",
        "\n",
        "scaled_data = Normalization.fit_transform(dataset)\n",
        "train_data = scaled_data[0:training_data_len, :]\n",
        "print(scaled_data)\n",
        "# Splitting the data\n",
        "x_train = []\n",
        "y_train = []\n",
        "\n",
        "for i in range(60, len(train_data)):\n",
        "    x_train.append(train_data[i-60:i, 0])\n",
        "    y_train.append(train_data[i, 0])\n",
        "    if i <= 60:\n",
        "        print(x_train)\n",
        "        print(y_train)\n",
        "        print()\n",
        "print(len(x_train))"
      ],
      "execution_count": null,
      "outputs": [
        {
          "output_type": "stream",
          "text": [
            "[[0.21522382]\n",
            " [0.22455401]\n",
            " [0.22231039]\n",
            " ...\n",
            " [0.50363905]\n",
            " [0.50322863]\n",
            " [0.5069224 ]]\n",
            "[array([0.21522382, 0.22455401, 0.22231039, 0.22430776, 0.22622305,\n",
            "       0.22581263, 0.22871293, 0.22800153, 0.22800153, 0.22310386,\n",
            "       0.22507388, 0.22154427, 0.22381526, 0.22482762, 0.22748167,\n",
            "       0.2273175 , 0.23131225, 0.23128489, 0.23027252, 0.22934223,\n",
            "       0.22835723, 0.22635986, 0.22737222, 0.22096968, 0.22663347,\n",
            "       0.22712597, 0.22756375, 0.22991682, 0.2293696 , 0.23046405,\n",
            "       0.23046405, 0.23426726, 0.23377476, 0.23399365, 0.23418518,\n",
            "       0.23413046, 0.23251614, 0.23257087, 0.23303601, 0.23194156,\n",
            "       0.23051877, 0.23246142, 0.23432199, 0.23429463, 0.2349513 ,\n",
            "       0.2350881 , 0.23202364, 0.23210572, 0.23257087, 0.2315585 ,\n",
            "       0.23161322, 0.23092919, 0.22827515, 0.2264693 , 0.22819306,\n",
            "       0.2286582 , 0.22876765, 0.2315585 , 0.23136697, 0.23147641])]\n",
            "[0.2311754405165809]\n",
            "\n",
            "11836\n"
          ],
          "name": "stdout"
        }
      ]
    },
    {
      "cell_type": "code",
      "metadata": {
        "colab": {
          "base_uri": "https://localhost:8080/"
        },
        "id": "ipHEq0zJVFMd",
        "outputId": "c1e5d9ce-b1b4-48e7-aae1-52eaaa3eec3d"
      },
      "source": [
        "# To numpy arrays\n",
        "x_train, y_train = np.array(x_train), np.array(y_train)\n",
        "\n",
        "# Reshaping the x_train\n",
        "x_train = np.reshape(x_train, (x_train.shape[0], x_train.shape[1], 1))\n",
        "x_train.shape\n",
        "\n",
        "model = Sequential()\n",
        "model.add(LSTM(64, return_sequences=True, input_shape=(x_train.shape[1], 1)))\n",
        "model.add(LSTM(64, return_sequences=True))\n",
        "model.add(LSTM(64, return_sequences=False))\n",
        "\n",
        "model.add(Dense(32))\n",
        "model.add(Dense(1))\n",
        "\n",
        "model.compile(optimizer='adam', loss='mean_squared_error')\n",
        "model.fit(x_train, y_train, batch_size=50, epochs=80)"
      ],
      "execution_count": null,
      "outputs": [
        {
          "output_type": "stream",
          "text": [
            "Epoch 1/80\n",
            "237/237 [==============================] - 32s 114ms/step - loss: 0.0202\n",
            "Epoch 2/80\n",
            "237/237 [==============================] - 27s 113ms/step - loss: 1.5764e-04\n",
            "Epoch 3/80\n",
            "237/237 [==============================] - 27s 113ms/step - loss: 1.4417e-04\n",
            "Epoch 4/80\n",
            "237/237 [==============================] - 27s 113ms/step - loss: 1.3864e-04\n",
            "Epoch 5/80\n",
            "237/237 [==============================] - 27s 113ms/step - loss: 1.4436e-04\n",
            "Epoch 6/80\n",
            "237/237 [==============================] - 27s 114ms/step - loss: 1.2975e-04\n",
            "Epoch 7/80\n",
            "237/237 [==============================] - 27s 113ms/step - loss: 1.2861e-04\n",
            "Epoch 8/80\n",
            "237/237 [==============================] - 27s 113ms/step - loss: 1.1849e-04\n",
            "Epoch 9/80\n",
            "237/237 [==============================] - 27s 113ms/step - loss: 1.6692e-04\n",
            "Epoch 10/80\n",
            "237/237 [==============================] - 27s 114ms/step - loss: 1.1333e-04\n",
            "Epoch 11/80\n",
            "237/237 [==============================] - 27s 113ms/step - loss: 9.6971e-05\n",
            "Epoch 12/80\n",
            "237/237 [==============================] - 27s 114ms/step - loss: 1.0663e-04\n",
            "Epoch 13/80\n",
            "237/237 [==============================] - 27s 113ms/step - loss: 1.0905e-04\n",
            "Epoch 14/80\n",
            "237/237 [==============================] - 27s 114ms/step - loss: 1.0536e-04\n",
            "Epoch 15/80\n",
            "237/237 [==============================] - 27s 114ms/step - loss: 8.6893e-05\n",
            "Epoch 16/80\n",
            "237/237 [==============================] - 27s 114ms/step - loss: 8.7982e-05\n",
            "Epoch 17/80\n",
            "237/237 [==============================] - 27s 115ms/step - loss: 8.4768e-05\n",
            "Epoch 18/80\n",
            "237/237 [==============================] - 27s 116ms/step - loss: 9.5005e-05\n",
            "Epoch 19/80\n",
            "237/237 [==============================] - 27s 114ms/step - loss: 8.2134e-05\n",
            "Epoch 20/80\n",
            "237/237 [==============================] - 27s 115ms/step - loss: 7.9560e-05\n",
            "Epoch 21/80\n",
            "237/237 [==============================] - 27s 115ms/step - loss: 6.6779e-05\n",
            "Epoch 22/80\n",
            "237/237 [==============================] - 27s 114ms/step - loss: 5.4893e-05\n",
            "Epoch 23/80\n",
            "237/237 [==============================] - 27s 115ms/step - loss: 5.2011e-05\n",
            "Epoch 24/80\n",
            "237/237 [==============================] - 27s 114ms/step - loss: 4.8934e-05\n",
            "Epoch 25/80\n",
            "237/237 [==============================] - 27s 113ms/step - loss: 4.9300e-05\n",
            "Epoch 26/80\n",
            "237/237 [==============================] - 27s 113ms/step - loss: 4.5985e-05\n",
            "Epoch 27/80\n",
            "237/237 [==============================] - 27s 114ms/step - loss: 4.3719e-05\n",
            "Epoch 28/80\n",
            "237/237 [==============================] - 27s 113ms/step - loss: 3.7131e-05\n",
            "Epoch 29/80\n",
            "237/237 [==============================] - 27s 113ms/step - loss: 3.3313e-05\n",
            "Epoch 30/80\n",
            "237/237 [==============================] - 27s 113ms/step - loss: 5.1725e-05\n",
            "Epoch 31/80\n",
            "237/237 [==============================] - 26s 112ms/step - loss: 3.7194e-05\n",
            "Epoch 32/80\n",
            "237/237 [==============================] - 27s 112ms/step - loss: 3.5271e-05\n",
            "Epoch 33/80\n",
            "237/237 [==============================] - 27s 112ms/step - loss: 3.1953e-05\n",
            "Epoch 34/80\n",
            "237/237 [==============================] - 27s 112ms/step - loss: 2.7431e-05\n",
            "Epoch 35/80\n",
            "237/237 [==============================] - 27s 112ms/step - loss: 3.6695e-05\n",
            "Epoch 36/80\n",
            "237/237 [==============================] - 27s 112ms/step - loss: 2.9930e-05\n",
            "Epoch 37/80\n",
            "237/237 [==============================] - 27s 113ms/step - loss: 3.6767e-05\n",
            "Epoch 38/80\n",
            "237/237 [==============================] - 27s 113ms/step - loss: 3.2041e-05\n",
            "Epoch 39/80\n",
            "237/237 [==============================] - 27s 112ms/step - loss: 2.3818e-05\n",
            "Epoch 40/80\n",
            "237/237 [==============================] - 27s 112ms/step - loss: 2.6143e-05\n",
            "Epoch 41/80\n",
            "237/237 [==============================] - 27s 113ms/step - loss: 3.7909e-05\n",
            "Epoch 42/80\n",
            "237/237 [==============================] - 27s 113ms/step - loss: 3.4244e-05\n",
            "Epoch 43/80\n",
            "237/237 [==============================] - 27s 113ms/step - loss: 4.1731e-05\n",
            "Epoch 44/80\n",
            "237/237 [==============================] - 27s 114ms/step - loss: 2.6846e-05\n",
            "Epoch 45/80\n",
            "237/237 [==============================] - 27s 114ms/step - loss: 3.1447e-05\n",
            "Epoch 46/80\n",
            "237/237 [==============================] - 27s 114ms/step - loss: 3.1287e-05\n",
            "Epoch 47/80\n",
            "237/237 [==============================] - 27s 113ms/step - loss: 2.6223e-05\n",
            "Epoch 48/80\n",
            "237/237 [==============================] - 27s 114ms/step - loss: 3.5073e-05\n",
            "Epoch 49/80\n",
            "237/237 [==============================] - 27s 113ms/step - loss: 2.4018e-05\n",
            "Epoch 50/80\n",
            "237/237 [==============================] - 27s 114ms/step - loss: 2.7105e-05\n",
            "Epoch 51/80\n",
            "237/237 [==============================] - 27s 113ms/step - loss: 3.9625e-05\n",
            "Epoch 52/80\n",
            "237/237 [==============================] - 27s 114ms/step - loss: 3.4476e-05\n",
            "Epoch 53/80\n",
            "237/237 [==============================] - 27s 113ms/step - loss: 2.8851e-05\n",
            "Epoch 54/80\n",
            "237/237 [==============================] - 27s 113ms/step - loss: 2.4594e-05\n",
            "Epoch 55/80\n",
            "237/237 [==============================] - 27s 113ms/step - loss: 3.0258e-05\n",
            "Epoch 56/80\n",
            "237/237 [==============================] - 27s 114ms/step - loss: 2.7794e-05\n",
            "Epoch 57/80\n",
            "237/237 [==============================] - 27s 113ms/step - loss: 2.7295e-05\n",
            "Epoch 58/80\n",
            "237/237 [==============================] - 27s 115ms/step - loss: 2.7378e-05\n",
            "Epoch 59/80\n",
            "237/237 [==============================] - 27s 114ms/step - loss: 2.4679e-05\n",
            "Epoch 60/80\n",
            "237/237 [==============================] - 27s 113ms/step - loss: 2.6079e-05\n",
            "Epoch 61/80\n",
            "237/237 [==============================] - 27s 113ms/step - loss: 2.5836e-05\n",
            "Epoch 62/80\n",
            "237/237 [==============================] - 27s 114ms/step - loss: 2.6463e-05\n",
            "Epoch 63/80\n",
            "237/237 [==============================] - 27s 114ms/step - loss: 2.7951e-05\n",
            "Epoch 64/80\n",
            "237/237 [==============================] - 27s 114ms/step - loss: 3.1335e-05\n",
            "Epoch 65/80\n",
            "237/237 [==============================] - 27s 114ms/step - loss: 2.5562e-05\n",
            "Epoch 66/80\n",
            "237/237 [==============================] - 27s 114ms/step - loss: 2.5199e-05\n",
            "Epoch 67/80\n",
            "237/237 [==============================] - 27s 113ms/step - loss: 2.6418e-05\n",
            "Epoch 68/80\n",
            "237/237 [==============================] - 27s 114ms/step - loss: 2.6846e-05\n",
            "Epoch 69/80\n",
            "237/237 [==============================] - 27s 113ms/step - loss: 3.1621e-05\n",
            "Epoch 70/80\n",
            "237/237 [==============================] - 27s 114ms/step - loss: 2.6764e-05\n",
            "Epoch 71/80\n",
            "237/237 [==============================] - 27s 113ms/step - loss: 2.3678e-05\n",
            "Epoch 72/80\n",
            "237/237 [==============================] - 27s 113ms/step - loss: 3.2650e-05\n",
            "Epoch 73/80\n",
            "237/237 [==============================] - 27s 113ms/step - loss: 2.6319e-05\n",
            "Epoch 74/80\n",
            "237/237 [==============================] - 27s 113ms/step - loss: 2.5745e-05\n",
            "Epoch 75/80\n",
            "237/237 [==============================] - 27s 113ms/step - loss: 2.4783e-05\n",
            "Epoch 76/80\n",
            "237/237 [==============================] - 27s 113ms/step - loss: 2.4916e-05\n",
            "Epoch 77/80\n",
            "237/237 [==============================] - 27s 114ms/step - loss: 2.4288e-05\n",
            "Epoch 78/80\n",
            "237/237 [==============================] - 27s 114ms/step - loss: 2.4323e-05\n",
            "Epoch 79/80\n",
            "237/237 [==============================] - 27s 114ms/step - loss: 2.4851e-05\n",
            "Epoch 80/80\n",
            "237/237 [==============================] - 27s 115ms/step - loss: 2.8041e-05\n"
          ],
          "name": "stdout"
        },
        {
          "output_type": "execute_result",
          "data": {
            "text/plain": [
              "<tensorflow.python.keras.callbacks.History at 0x7f80c3901410>"
            ]
          },
          "metadata": {
            "tags": []
          },
          "execution_count": 12
        }
      ]
    },
    {
      "cell_type": "code",
      "metadata": {
        "id": "hqP1zm5PcNGq",
        "colab": {
          "base_uri": "https://localhost:8080/"
        },
        "outputId": "1d695f94-e8f1-45df-9f06-3b8ce29aa84b"
      },
      "source": [
        "# To numpy arrays\n",
        "x_train, y_train = np.array(x_train), np.array(y_train)\n",
        "\n",
        "# Reshaping the x_train\n",
        "x_train = np.reshape(x_train, (x_train.shape[0], x_train.shape[1], 1))\n",
        "x_train.shape\n",
        "\n",
        "model = Sequential()\n",
        "model.add(LSTM(64, return_sequences=True, input_shape=(x_train.shape[1], 1)))\n",
        "model.add(LSTM(64, return_sequences=True))\n",
        "model.add(LSTM(64, return_sequences=False))\n",
        "\n",
        "model.add(Dense(32))\n",
        "model.add(Dense(1))\n",
        "\n",
        "model.compile(optimizer='adam', loss='mean_squared_error')\n",
        "model.fit(x_train, y_train, batch_size=50, epochs=80)"
      ],
      "execution_count": null,
      "outputs": [
        {
          "output_type": "stream",
          "text": [
            "Epoch 1/80\n",
            "237/237 [==============================] - 32s 113ms/step - loss: 0.0192\n",
            "Epoch 2/80\n",
            "237/237 [==============================] - 27s 113ms/step - loss: 1.5637e-04\n",
            "Epoch 3/80\n",
            "237/237 [==============================] - 27s 112ms/step - loss: 1.7661e-04\n",
            "Epoch 4/80\n",
            "237/237 [==============================] - 27s 112ms/step - loss: 1.4848e-04\n",
            "Epoch 5/80\n",
            "237/237 [==============================] - 27s 112ms/step - loss: 1.3213e-04\n",
            "Epoch 6/80\n",
            "237/237 [==============================] - 27s 112ms/step - loss: 1.3733e-04\n",
            "Epoch 7/80\n",
            "237/237 [==============================] - 27s 112ms/step - loss: 1.3474e-04\n",
            "Epoch 8/80\n",
            "237/237 [==============================] - 27s 113ms/step - loss: 1.3268e-04\n",
            "Epoch 9/80\n",
            "237/237 [==============================] - 27s 113ms/step - loss: 1.5080e-04\n",
            "Epoch 10/80\n",
            "237/237 [==============================] - 27s 112ms/step - loss: 1.1106e-04\n",
            "Epoch 11/80\n",
            "237/237 [==============================] - 27s 112ms/step - loss: 1.2322e-04\n",
            "Epoch 12/80\n",
            "237/237 [==============================] - 27s 112ms/step - loss: 1.0381e-04\n",
            "Epoch 13/80\n",
            "237/237 [==============================] - 26s 112ms/step - loss: 1.1284e-04\n",
            "Epoch 14/80\n",
            "237/237 [==============================] - 26s 112ms/step - loss: 1.0992e-04\n",
            "Epoch 15/80\n",
            "237/237 [==============================] - 26s 111ms/step - loss: 8.9642e-05\n",
            "Epoch 16/80\n",
            "237/237 [==============================] - 26s 112ms/step - loss: 9.7439e-05\n",
            "Epoch 17/80\n",
            "237/237 [==============================] - 26s 111ms/step - loss: 8.1956e-05\n",
            "Epoch 18/80\n",
            "237/237 [==============================] - 26s 111ms/step - loss: 8.4802e-05\n",
            "Epoch 19/80\n",
            "237/237 [==============================] - 27s 112ms/step - loss: 7.6724e-05\n",
            "Epoch 20/80\n",
            "237/237 [==============================] - 26s 112ms/step - loss: 7.8989e-05\n",
            "Epoch 21/80\n",
            "237/237 [==============================] - 27s 112ms/step - loss: 6.9533e-05\n",
            "Epoch 22/80\n",
            "237/237 [==============================] - 26s 112ms/step - loss: 4.9222e-05\n",
            "Epoch 23/80\n",
            "237/237 [==============================] - 27s 113ms/step - loss: 5.2095e-05\n",
            "Epoch 24/80\n",
            "237/237 [==============================] - 27s 112ms/step - loss: 5.6026e-05\n",
            "Epoch 25/80\n",
            "237/237 [==============================] - 27s 112ms/step - loss: 5.8728e-05\n",
            "Epoch 26/80\n",
            "237/237 [==============================] - 26s 111ms/step - loss: 4.1139e-05\n",
            "Epoch 27/80\n",
            "237/237 [==============================] - 26s 111ms/step - loss: 4.9366e-05\n",
            "Epoch 28/80\n",
            "237/237 [==============================] - 26s 111ms/step - loss: 5.3654e-05\n",
            "Epoch 29/80\n",
            "237/237 [==============================] - 26s 111ms/step - loss: 3.5126e-05\n",
            "Epoch 30/80\n",
            "237/237 [==============================] - 26s 112ms/step - loss: 4.0602e-05\n",
            "Epoch 31/80\n",
            "237/237 [==============================] - 26s 111ms/step - loss: 3.9487e-05\n",
            "Epoch 32/80\n",
            "237/237 [==============================] - 27s 112ms/step - loss: 3.6792e-05\n",
            "Epoch 33/80\n",
            "237/237 [==============================] - 26s 111ms/step - loss: 2.9189e-05\n",
            "Epoch 34/80\n",
            "237/237 [==============================] - 26s 111ms/step - loss: 4.3631e-05\n",
            "Epoch 35/80\n",
            "237/237 [==============================] - 26s 111ms/step - loss: 3.4973e-05\n",
            "Epoch 36/80\n",
            "237/237 [==============================] - 27s 112ms/step - loss: 3.1411e-05\n",
            "Epoch 37/80\n",
            "237/237 [==============================] - 27s 112ms/step - loss: 3.8447e-05\n",
            "Epoch 38/80\n",
            "237/237 [==============================] - 26s 111ms/step - loss: 3.3644e-05\n",
            "Epoch 39/80\n",
            "237/237 [==============================] - 27s 112ms/step - loss: 3.4808e-05\n",
            "Epoch 40/80\n",
            "237/237 [==============================] - 27s 112ms/step - loss: 2.9905e-05\n",
            "Epoch 41/80\n",
            "237/237 [==============================] - 27s 112ms/step - loss: 2.8008e-05\n",
            "Epoch 42/80\n",
            "237/237 [==============================] - 27s 112ms/step - loss: 3.2162e-05\n",
            "Epoch 43/80\n",
            "237/237 [==============================] - 27s 112ms/step - loss: 2.9579e-05\n",
            "Epoch 44/80\n",
            "237/237 [==============================] - 27s 113ms/step - loss: 2.8865e-05\n",
            "Epoch 45/80\n",
            "237/237 [==============================] - 27s 113ms/step - loss: 2.7002e-05\n",
            "Epoch 46/80\n",
            "237/237 [==============================] - 27s 113ms/step - loss: 2.9109e-05\n",
            "Epoch 47/80\n",
            "237/237 [==============================] - 27s 112ms/step - loss: 3.3600e-05\n",
            "Epoch 48/80\n",
            "237/237 [==============================] - 27s 113ms/step - loss: 2.5707e-05\n",
            "Epoch 49/80\n",
            "237/237 [==============================] - 27s 113ms/step - loss: 3.3108e-05\n",
            "Epoch 50/80\n",
            "237/237 [==============================] - 27s 113ms/step - loss: 3.1331e-05\n",
            "Epoch 51/80\n",
            "237/237 [==============================] - 27s 113ms/step - loss: 3.3705e-05\n",
            "Epoch 52/80\n",
            "237/237 [==============================] - 27s 114ms/step - loss: 2.9117e-05\n",
            "Epoch 53/80\n",
            "237/237 [==============================] - 27s 113ms/step - loss: 2.8741e-05\n",
            "Epoch 54/80\n",
            "237/237 [==============================] - 27s 113ms/step - loss: 2.4573e-05\n",
            "Epoch 55/80\n",
            "237/237 [==============================] - 27s 113ms/step - loss: 3.0250e-05\n",
            "Epoch 56/80\n",
            "237/237 [==============================] - 27s 113ms/step - loss: 2.8302e-05\n",
            "Epoch 57/80\n",
            "237/237 [==============================] - 27s 112ms/step - loss: 3.0321e-05\n",
            "Epoch 58/80\n",
            "237/237 [==============================] - 27s 113ms/step - loss: 2.9833e-05\n",
            "Epoch 59/80\n",
            "237/237 [==============================] - 27s 114ms/step - loss: 2.3941e-05\n",
            "Epoch 60/80\n",
            "237/237 [==============================] - 27s 114ms/step - loss: 2.7770e-05\n",
            "Epoch 61/80\n",
            "237/237 [==============================] - 27s 114ms/step - loss: 2.9229e-05\n",
            "Epoch 62/80\n",
            "237/237 [==============================] - 27s 113ms/step - loss: 2.2759e-05\n",
            "Epoch 63/80\n",
            "237/237 [==============================] - 27s 113ms/step - loss: 2.4526e-05\n",
            "Epoch 64/80\n",
            "237/237 [==============================] - 27s 114ms/step - loss: 2.5830e-05\n",
            "Epoch 65/80\n",
            "237/237 [==============================] - 27s 113ms/step - loss: 2.6640e-05\n",
            "Epoch 66/80\n",
            "237/237 [==============================] - 27s 113ms/step - loss: 2.3243e-05\n",
            "Epoch 67/80\n",
            "237/237 [==============================] - 27s 115ms/step - loss: 2.6699e-05\n",
            "Epoch 68/80\n",
            "237/237 [==============================] - 28s 117ms/step - loss: 2.6940e-05\n",
            "Epoch 69/80\n",
            "237/237 [==============================] - 27s 116ms/step - loss: 2.6817e-05\n",
            "Epoch 70/80\n",
            "237/237 [==============================] - 27s 114ms/step - loss: 2.8085e-05\n",
            "Epoch 71/80\n",
            "237/237 [==============================] - 27s 114ms/step - loss: 2.5486e-05\n",
            "Epoch 72/80\n",
            "237/237 [==============================] - 27s 114ms/step - loss: 2.7899e-05\n",
            "Epoch 73/80\n",
            "237/237 [==============================] - 27s 114ms/step - loss: 2.3253e-05\n",
            "Epoch 74/80\n",
            "237/237 [==============================] - 27s 113ms/step - loss: 3.3124e-05\n",
            "Epoch 75/80\n",
            "237/237 [==============================] - 27s 113ms/step - loss: 3.1487e-05\n",
            "Epoch 76/80\n",
            "237/237 [==============================] - 27s 114ms/step - loss: 2.5183e-05\n",
            "Epoch 77/80\n",
            "237/237 [==============================] - 27s 114ms/step - loss: 4.1089e-05\n",
            "Epoch 78/80\n",
            "237/237 [==============================] - 27s 113ms/step - loss: 2.1830e-05\n",
            "Epoch 79/80\n",
            "237/237 [==============================] - 27s 114ms/step - loss: 2.6526e-05\n",
            "Epoch 80/80\n",
            "237/237 [==============================] - 27s 114ms/step - loss: 2.3002e-05\n"
          ],
          "name": "stdout"
        },
        {
          "output_type": "execute_result",
          "data": {
            "text/plain": [
              "<tensorflow.python.keras.callbacks.History at 0x7f80bffa4550>"
            ]
          },
          "metadata": {
            "tags": []
          },
          "execution_count": 13
        }
      ]
    },
    {
      "cell_type": "code",
      "metadata": {
        "colab": {
          "base_uri": "https://localhost:8080/"
        },
        "id": "MoJEIObBgBPv",
        "outputId": "795012fd-0def-4332-9778-df5e4d817151"
      },
      "source": [
        "# Testing data\n",
        "test_data = scaled_data[training_data_len - 60:, :]\n",
        "x_test = []\n",
        "y_test = dataset[training_data_len:, :]\n",
        "for i in range(60, len(test_data)):\n",
        "    x_test.append(test_data[i-60:i, 0])\n",
        "\n",
        "x_test = np.array(x_test)\n",
        "x_test = np.reshape(x_test, (x_test.shape[0], x_test.shape[1], 1))\n",
        "predictions = model.predict(x_test)\n",
        "predictions = Normalization.inverse_transform(predictions)\n",
        "rmse = np.sqrt(np.mean(predictions - y_test)**2)\n",
        "rmse"
      ],
      "execution_count": null,
      "outputs": [
        {
          "output_type": "execute_result",
          "data": {
            "text/plain": [
              "1.6182105748612345"
            ]
          },
          "metadata": {
            "tags": []
          },
          "execution_count": 17
        }
      ]
    },
    {
      "cell_type": "code",
      "metadata": {
        "colab": {
          "base_uri": "https://localhost:8080/",
          "height": 649
        },
        "id": "Je1bgyekcPBx",
        "outputId": "c2841777-101c-4af5-fe04-32f95694d0ff"
      },
      "source": [
        "# Plotting the data\n",
        "train = data[:training_data_len]\n",
        "valid = data[training_data_len:]\n",
        "valid[\"Predictions\"] = predictions\n",
        "# Visualizing\n",
        "plt.figure(figsize=(16, 8))\n",
        "plt.title(\"Model\")\n",
        "plt.xlabel(\"Date\")\n",
        "plt.ylabel(\"CLOSE PRICE\")\n",
        "plt.plot(train[\"close\"])\n",
        "plt.plot(valid[['close', 'Predictions']])"
      ],
      "execution_count": null,
      "outputs": [
        {
          "output_type": "stream",
          "text": [
            "/usr/local/lib/python3.7/dist-packages/ipykernel_launcher.py:4: SettingWithCopyWarning: \n",
            "A value is trying to be set on a copy of a slice from a DataFrame.\n",
            "Try using .loc[row_indexer,col_indexer] = value instead\n",
            "\n",
            "See the caveats in the documentation: https://pandas.pydata.org/pandas-docs/stable/user_guide/indexing.html#returning-a-view-versus-a-copy\n",
            "  after removing the cwd from sys.path.\n"
          ],
          "name": "stderr"
        },
        {
          "output_type": "execute_result",
          "data": {
            "text/plain": [
              "[<matplotlib.lines.Line2D at 0x7f80be371590>,\n",
              " <matplotlib.lines.Line2D at 0x7f80be371790>]"
            ]
          },
          "metadata": {
            "tags": []
          },
          "execution_count": 18
        },
        {
          "output_type": "display_data",
          "data": {
            "image/png": "[encoded data removed]",
            "text/plain": [
              "<Figure size 1152x576 with 1 Axes>"
            ]
          },
          "metadata": {
            "tags": [],
            "needs_background": "light"
          }
        }
      ]
    }
  ]
}